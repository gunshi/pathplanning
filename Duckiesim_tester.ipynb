{
 "cells": [
  {
   "cell_type": "code",
   "execution_count": 1,
   "metadata": {},
   "outputs": [],
   "source": [
    "import manager\n",
    "from manager import Manager"
   ]
  },
  {
   "cell_type": "code",
   "execution_count": 2,
   "metadata": {},
   "outputs": [],
   "source": [
    "manager = Manager()\n",
    "world = manager.world"
   ]
  },
  {
   "cell_type": "code",
   "execution_count": 3,
   "metadata": {},
   "outputs": [],
   "source": [
    "my_bot = world.bots[0]"
   ]
  },
  {
   "cell_type": "code",
   "execution_count": 4,
   "metadata": {},
   "outputs": [],
   "source": [
    "my_bot.update_plan([0 for x in range(100)])"
   ]
  },
  {
   "cell_type": "code",
   "execution_count": 5,
   "metadata": {
    "scrolled": false
   },
   "outputs": [
    {
     "name": "stderr",
     "output_type": "stream",
     "text": [
      "INFO:root:<class 'bot.MyBot'>: (0, 0, 0)\n",
      "INFO:root:<class 'bot.SlowBot'>: (0, 10, 0)\n",
      "INFO:root:<class 'bot.MyBot'>: (0.0, 0.2, 0)\n",
      "INFO:root:<class 'bot.SlowBot'>: (0.0, 10.05, 0)\n",
      "INFO:root:<class 'bot.MyBot'>: (0.0, 0.4, 0)\n",
      "INFO:root:<class 'bot.SlowBot'>: (0.0, 10.100000000000001, 0)\n",
      "INFO:root:<class 'bot.MyBot'>: (0.0, 0.6000000000000001, 0)\n",
      "INFO:root:<class 'bot.SlowBot'>: (0.0, 10.150000000000002, 0)\n",
      "INFO:root:<class 'bot.MyBot'>: (0.0, 0.8, 0)\n",
      "INFO:root:<class 'bot.SlowBot'>: (0.0, 10.200000000000003, 0)\n",
      "INFO:root:<class 'bot.MyBot'>: (0.0, 1.0, 0)\n",
      "INFO:root:<class 'bot.SlowBot'>: (0.0, 10.250000000000004, 0)\n",
      "INFO:root:<class 'bot.MyBot'>: (0.0, 1.2, 0)\n",
      "INFO:root:<class 'bot.SlowBot'>: (0.0, 10.300000000000004, 0)\n",
      "INFO:root:<class 'bot.MyBot'>: (0.0, 1.4, 0)\n",
      "INFO:root:<class 'bot.SlowBot'>: (0.0, 10.350000000000005, 0)\n",
      "INFO:root:<class 'bot.MyBot'>: (0.0, 1.5999999999999999, 0)\n",
      "INFO:root:<class 'bot.SlowBot'>: (0.0, 10.400000000000006, 0)\n",
      "INFO:root:<class 'bot.MyBot'>: (0.0, 1.7999999999999998, 0)\n",
      "INFO:root:<class 'bot.SlowBot'>: (0.0, 10.450000000000006, 0)\n",
      "INFO:root:<class 'bot.MyBot'>: (0.0, 1.9999999999999998, 0)\n",
      "INFO:root:<class 'bot.SlowBot'>: (0.0, 10.500000000000007, 0)\n",
      "INFO:root:<class 'bot.MyBot'>: (0.0, 2.1999999999999997, 0)\n",
      "INFO:root:<class 'bot.SlowBot'>: (0.0, 10.550000000000008, 0)\n",
      "INFO:root:<class 'bot.MyBot'>: (0.0, 2.4, 0)\n",
      "INFO:root:<class 'bot.SlowBot'>: (0.0, 10.600000000000009, 0)\n",
      "INFO:root:<class 'bot.MyBot'>: (0.0, 2.6, 0)\n",
      "INFO:root:<class 'bot.SlowBot'>: (0.0, 10.65000000000001, 0)\n",
      "INFO:root:<class 'bot.MyBot'>: (0.0, 2.8000000000000003, 0)\n",
      "INFO:root:<class 'bot.SlowBot'>: (0.0, 10.70000000000001, 0)\n",
      "INFO:root:<class 'bot.MyBot'>: (0.0, 3.0000000000000004, 0)\n",
      "INFO:root:<class 'bot.SlowBot'>: (0.0, 10.75000000000001, 0)\n",
      "INFO:root:<class 'bot.MyBot'>: (0.0, 3.2000000000000006, 0)\n",
      "INFO:root:<class 'bot.SlowBot'>: (0.0, 10.800000000000011, 0)\n",
      "INFO:root:<class 'bot.MyBot'>: (0.0, 3.400000000000001, 0)\n",
      "INFO:root:<class 'bot.SlowBot'>: (0.0, 10.850000000000012, 0)\n",
      "INFO:root:<class 'bot.MyBot'>: (0.0, 3.600000000000001, 0)\n",
      "INFO:root:<class 'bot.SlowBot'>: (0.0, 10.900000000000013, 0)\n",
      "INFO:root:<class 'bot.MyBot'>: (0.0, 3.800000000000001, 0)\n",
      "INFO:root:<class 'bot.SlowBot'>: (0.0, 10.950000000000014, 0)\n",
      "INFO:root:<class 'bot.MyBot'>: (0.0, 4.000000000000001, 0)\n",
      "INFO:root:<class 'bot.SlowBot'>: (0.0, 11.000000000000014, 0)\n",
      "INFO:root:<class 'bot.MyBot'>: (0.0, 4.200000000000001, 0)\n",
      "INFO:root:<class 'bot.SlowBot'>: (0.0, 11.050000000000015, 0)\n",
      "INFO:root:<class 'bot.MyBot'>: (0.0, 4.400000000000001, 0)\n",
      "INFO:root:<class 'bot.SlowBot'>: (0.0, 11.100000000000016, 0)\n",
      "INFO:root:<class 'bot.MyBot'>: (0.0, 4.600000000000001, 0)\n",
      "INFO:root:<class 'bot.SlowBot'>: (0.0, 11.150000000000016, 0)\n",
      "INFO:root:<class 'bot.MyBot'>: (0.0, 4.800000000000002, 0)\n",
      "INFO:root:<class 'bot.SlowBot'>: (0.0, 11.200000000000017, 0)\n",
      "INFO:root:<class 'bot.MyBot'>: (0.0, 5.000000000000002, 0)\n",
      "INFO:root:<class 'bot.SlowBot'>: (0.0, 11.250000000000018, 0)\n",
      "INFO:root:<class 'bot.MyBot'>: (0.0, 5.200000000000002, 0)\n",
      "INFO:root:<class 'bot.SlowBot'>: (0.0, 11.300000000000018, 0)\n",
      "INFO:root:<class 'bot.MyBot'>: (0.0, 5.400000000000002, 0)\n",
      "INFO:root:<class 'bot.SlowBot'>: (0.0, 11.35000000000002, 0)\n",
      "INFO:root:<class 'bot.MyBot'>: (0.0, 5.600000000000002, 0)\n",
      "INFO:root:<class 'bot.SlowBot'>: (0.0, 11.40000000000002, 0)\n",
      "INFO:root:<class 'bot.MyBot'>: (0.0, 5.8000000000000025, 0)\n",
      "INFO:root:<class 'bot.SlowBot'>: (0.0, 11.45000000000002, 0)\n",
      "INFO:root:<class 'bot.MyBot'>: (0.0, 6.000000000000003, 0)\n",
      "INFO:root:<class 'bot.SlowBot'>: (0.0, 11.500000000000021, 0)\n",
      "INFO:root:<class 'bot.MyBot'>: (0.0, 6.200000000000003, 0)\n",
      "INFO:root:<class 'bot.SlowBot'>: (0.0, 11.550000000000022, 0)\n",
      "INFO:root:<class 'bot.MyBot'>: (0.0, 6.400000000000003, 0)\n",
      "INFO:root:<class 'bot.SlowBot'>: (0.0, 11.600000000000023, 0)\n",
      "INFO:root:<class 'bot.MyBot'>: (0.0, 6.600000000000003, 0)\n",
      "INFO:root:<class 'bot.SlowBot'>: (0.0, 11.650000000000023, 0)\n",
      "INFO:root:<class 'bot.MyBot'>: (0.0, 6.800000000000003, 0)\n",
      "INFO:root:<class 'bot.SlowBot'>: (0.0, 11.700000000000024, 0)\n",
      "INFO:root:<class 'bot.MyBot'>: (0.0, 7.0000000000000036, 0)\n",
      "INFO:root:<class 'bot.SlowBot'>: (0.0, 11.750000000000025, 0)\n",
      "INFO:root:<class 'bot.MyBot'>: (0.0, 7.200000000000004, 0)\n",
      "INFO:root:<class 'bot.SlowBot'>: (0.0, 11.800000000000026, 0)\n",
      "INFO:root:<class 'bot.MyBot'>: (0.0, 7.400000000000004, 0)\n",
      "INFO:root:<class 'bot.SlowBot'>: (0.0, 11.850000000000026, 0)\n",
      "INFO:root:<class 'bot.MyBot'>: (0.0, 7.600000000000004, 0)\n",
      "INFO:root:<class 'bot.SlowBot'>: (0.0, 11.900000000000027, 0)\n",
      "INFO:root:<class 'bot.MyBot'>: (0.0, 7.800000000000004, 0)\n",
      "INFO:root:<class 'bot.SlowBot'>: (0.0, 11.950000000000028, 0)\n",
      "INFO:root:<class 'bot.MyBot'>: (0.0, 8.000000000000004, 0)\n",
      "INFO:root:<class 'bot.SlowBot'>: (0.0, 12.000000000000028, 0)\n"
     ]
    },
    {
     "ename": "RammedAFreakinDuckiebot",
     "evalue": "",
     "output_type": "error",
     "traceback": [
      "\u001b[0;31m---------------------------------------------------------------------------\u001b[0m",
      "\u001b[0;31mRammedAFreakinDuckiebot\u001b[0m                   Traceback (most recent call last)",
      "\u001b[0;32m<ipython-input-5-b8e643d26bb8>\u001b[0m in \u001b[0;36m<module>\u001b[0;34m()\u001b[0m\n\u001b[1;32m      1\u001b[0m \u001b[0;32mfor\u001b[0m \u001b[0mtimestep\u001b[0m \u001b[0;32min\u001b[0m \u001b[0mrange\u001b[0m\u001b[0;34m(\u001b[0m\u001b[0;36m100\u001b[0m\u001b[0;34m)\u001b[0m\u001b[0;34m:\u001b[0m\u001b[0;34m\u001b[0m\u001b[0m\n\u001b[0;32m----> 2\u001b[0;31m     \u001b[0mworld\u001b[0m\u001b[0;34m.\u001b[0m\u001b[0mstep\u001b[0m\u001b[0;34m(\u001b[0m\u001b[0;34m)\u001b[0m\u001b[0;34m\u001b[0m\u001b[0m\n\u001b[0m",
      "\u001b[0;32m/Users/martinweiss/code/academic/duckietown/pathplanning/world.pyc\u001b[0m in \u001b[0;36mstep\u001b[0;34m(self)\u001b[0m\n\u001b[1;32m     30\u001b[0m         \u001b[0msafety_state\u001b[0m \u001b[0;34m=\u001b[0m \u001b[0mself\u001b[0m\u001b[0;34m.\u001b[0m\u001b[0mcheck_safety\u001b[0m\u001b[0;34m(\u001b[0m\u001b[0mself\u001b[0m\u001b[0;34m.\u001b[0m\u001b[0mbots\u001b[0m\u001b[0;34m)\u001b[0m\u001b[0;34m\u001b[0m\u001b[0m\n\u001b[1;32m     31\u001b[0m         \u001b[0;32mif\u001b[0m \u001b[0msafety_state\u001b[0m \u001b[0;34m==\u001b[0m \u001b[0mSafetyStatus\u001b[0m\u001b[0;34m.\u001b[0m\u001b[0mCOLLISION\u001b[0m\u001b[0;34m:\u001b[0m\u001b[0;34m\u001b[0m\u001b[0m\n\u001b[0;32m---> 32\u001b[0;31m             \u001b[0;32mraise\u001b[0m \u001b[0mRammedAFreakinDuckiebot\u001b[0m\u001b[0;34m\u001b[0m\u001b[0m\n\u001b[0m\u001b[1;32m     33\u001b[0m         \u001b[0;32melif\u001b[0m \u001b[0mground_type\u001b[0m \u001b[0;34m==\u001b[0m \u001b[0mGround\u001b[0m\u001b[0;34m.\u001b[0m\u001b[0mLOST\u001b[0m\u001b[0;34m:\u001b[0m\u001b[0;34m\u001b[0m\u001b[0m\n\u001b[1;32m     34\u001b[0m             \u001b[0;32mraise\u001b[0m \u001b[0mDroveOffTheFreakinRoad\u001b[0m\u001b[0;34m\u001b[0m\u001b[0m\n",
      "\u001b[0;31mRammedAFreakinDuckiebot\u001b[0m: "
     ]
    }
   ],
   "source": [
    "for timestep in range(100):\n",
    "    world.step()"
   ]
  },
  {
   "cell_type": "code",
   "execution_count": 6,
   "metadata": {},
   "outputs": [
    {
     "data": {
      "text/plain": [
       "[2,\n",
       " 2,\n",
       " 2,\n",
       " 2,\n",
       " 2,\n",
       " 2,\n",
       " 2,\n",
       " 2,\n",
       " 2,\n",
       " 2,\n",
       " 2,\n",
       " 2,\n",
       " 2,\n",
       " 2,\n",
       " 2,\n",
       " 2,\n",
       " 2,\n",
       " 2,\n",
       " 2,\n",
       " 2,\n",
       " 2,\n",
       " 2,\n",
       " 2,\n",
       " 2,\n",
       " 2,\n",
       " 2,\n",
       " 2,\n",
       " 2,\n",
       " 2,\n",
       " 2,\n",
       " 2,\n",
       " 2,\n",
       " 2,\n",
       " 2,\n",
       " 2,\n",
       " 2,\n",
       " 2,\n",
       " 2,\n",
       " 2,\n",
       " 2]"
      ]
     },
     "execution_count": 6,
     "metadata": {},
     "output_type": "execute_result"
    }
   ],
   "source": [
    "manager.rewards"
   ]
  },
  {
   "cell_type": "code",
   "execution_count": null,
   "metadata": {},
   "outputs": [],
   "source": []
  },
  {
   "cell_type": "code",
   "execution_count": null,
   "metadata": {},
   "outputs": [],
   "source": []
  }
 ],
 "metadata": {
  "kernelspec": {
   "display_name": "Python 2",
   "language": "python",
   "name": "python2"
  },
  "language_info": {
   "codemirror_mode": {
    "name": "ipython",
    "version": 2
   },
   "file_extension": ".py",
   "mimetype": "text/x-python",
   "name": "python",
   "nbconvert_exporter": "python",
   "pygments_lexer": "ipython2",
   "version": "2.7.13"
  }
 },
 "nbformat": 4,
 "nbformat_minor": 2
}
